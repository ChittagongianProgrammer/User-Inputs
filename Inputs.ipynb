{
 "cells": [
  {
   "cell_type": "markdown",
   "metadata": {},
   "source": [
    "User Input"
   ]
  },
  {
   "cell_type": "code",
   "execution_count": null,
   "metadata": {},
   "outputs": [],
   "source": [
    "name = input(\"Enter name: \")\n",
    "age = int(input (\"Enter age: \"))\n",
    "\n",
    "print(f\"Hello, your name is {name}.\")\n",
    "print(f\"Your age is {age} years old today.\")"
   ]
  },
  {
   "cell_type": "markdown",
   "metadata": {},
   "source": [
    "Mad libs"
   ]
  },
  {
   "cell_type": "code",
   "execution_count": null,
   "metadata": {},
   "outputs": [],
   "source": [
    "first_adjective = input(\"Enter the first adjective: \")\n",
    "noun = input(\"Enter the noun: \")\n",
    "second_adjective = input(\"Enter the second adjective: \")\n",
    "verb = input(\"Enter the verb: \")\n",
    "last_adjective =input(\"Enter the last adjective: \")\n",
    "\n",
    "print(f\"Today I went to a {first_adjective} hospital.\")\n",
    "print(f\"In the reception, I saw {noun}.\")\n",
    "print(f\"{noun} was {second_adjective} and {verb}ing.\")\n",
    "print(f\"It was {last_adjective}.\")"
   ]
  },
  {
   "cell_type": "markdown",
   "metadata": {},
   "source": [
    "Area calculator"
   ]
  },
  {
   "cell_type": "code",
   "execution_count": null,
   "metadata": {},
   "outputs": [],
   "source": [
    "length = input(\"Enter the length of your 3D Shape: \")\n",
    "width = input(\"Enter the width of your 3D Shape: \")\n",
    "height = input(\"Enter the height of your 3D Shape: \")\n",
    "\n",
    "volume = int(length) * int(width) * int(height)\n",
    "\n",
    "print(f\"The volume of your 3D shape is {volume}cm^3.\")"
   ]
  },
  {
   "cell_type": "markdown",
   "metadata": {},
   "source": [
    "Shopping Cart"
   ]
  },
  {
   "cell_type": "code",
   "execution_count": 6,
   "metadata": {},
   "outputs": [
    {
     "name": "stdout",
     "output_type": "stream",
     "text": [
      "You have brought 6 x pizza/s\n",
      "Your total is: £32.52\n"
     ]
    }
   ],
   "source": [
    "product = input(\"What do you want to buy?: \")\n",
    "price = float(input(\"What's the price of your product?: \"))\n",
    "amount = int(input(\"How many do you want to buy?: \"))\n",
    "\n",
    "final_price = amount * price\n",
    "\n",
    "print(f\"You have brought {amount} x {product}/s\")\n",
    "print(f\"Your total is: £{round(final_price, 2)}\")"
   ]
  }
 ],
 "metadata": {
  "kernelspec": {
   "display_name": "Python 3",
   "language": "python",
   "name": "python3"
  },
  "language_info": {
   "codemirror_mode": {
    "name": "ipython",
    "version": 3
   },
   "file_extension": ".py",
   "mimetype": "text/x-python",
   "name": "python",
   "nbconvert_exporter": "python",
   "pygments_lexer": "ipython3",
   "version": "3.11.7"
  }
 },
 "nbformat": 4,
 "nbformat_minor": 2
}
