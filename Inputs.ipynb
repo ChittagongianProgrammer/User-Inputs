{
 "cells": [
  {
   "cell_type": "markdown",
   "metadata": {},
   "source": [
    "User Input"
   ]
  },
  {
   "cell_type": "code",
   "execution_count": null,
   "metadata": {},
   "outputs": [],
   "source": [
    "name = input(\"Enter your name: \")\n",
    "age = int(input (\"Enter your age: \"))\n",
    "age = age + 1\n",
    "\n",
    "print(f\"Hello {name}\")\n",
    "print(f\"You are {age} years old\")"
   ]
  },
  {
   "cell_type": "markdown",
   "metadata": {},
   "source": [
    "Mad libs"
   ]
  },
  {
   "cell_type": "code",
   "execution_count": null,
   "metadata": {},
   "outputs": [],
   "source": [
    "adjective1 = input(\"Enter an adjective: \")\n",
    "noun = input(\"Enter an noun: \")\n",
    "adjective2 = input(\"Enter an adjective: \")\n",
    "verb = input(\"Enter an verb: \")\n",
    "adjective3 =input(\"Enter an adjective: \")\n",
    "\n",
    "print(f\"Today I went to a {adjective1} zoo.\")\n",
    "print(f\"In an exhibit, I saw {noun}\")\n",
    "print(f\"{noun} was {adjective2} and {verb}ing\")\n",
    "print(f\"I was {adjective3}\")"
   ]
  },
  {
   "cell_type": "markdown",
   "metadata": {},
   "source": [
    "Area calculator"
   ]
  },
  {
   "cell_type": "code",
   "execution_count": null,
   "metadata": {},
   "outputs": [],
   "source": [
    "length = input(\"Enter the length of a rectangle: \")\n",
    "width = input(\"Enter the width of a rectangle: \")\n",
    "height = input(\"Enter the height of a rectangle: \")\n",
    "\n",
    "volume = int(length) * int(width) * int(height)\n",
    "\n",
    "print(f\"The volume is: {volume}cm^3\")"
   ]
  },
  {
   "cell_type": "markdown",
   "metadata": {},
   "source": [
    "Shopping Cart"
   ]
  },
  {
   "cell_type": "code",
   "execution_count": null,
   "metadata": {},
   "outputs": [],
   "source": [
    "item = input(\"What item would you like to buy?: \")\n",
    "price = float(input(\"What is the price?: \"))\n",
    "quantity = int(input(\"How many would you like to buy?: \"))\n",
    "\n",
    "total = price * quantity \n",
    "\n",
    "print(f\"You have brought {quantity} x {item}/s\")\n",
    "print(f\"Your total is: £{round(total, 2)}\")"
   ]
  }
 ],
 "metadata": {
  "kernelspec": {
   "display_name": "Python 3",
   "language": "python",
   "name": "python3"
  },
  "language_info": {
   "codemirror_mode": {
    "name": "ipython",
    "version": 3
   },
   "file_extension": ".py",
   "mimetype": "text/x-python",
   "name": "python",
   "nbconvert_exporter": "python",
   "pygments_lexer": "ipython3",
   "version": "3.11.7"
  }
 },
 "nbformat": 4,
 "nbformat_minor": 2
}
