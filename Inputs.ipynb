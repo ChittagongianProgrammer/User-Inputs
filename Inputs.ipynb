{
 "cells": [
  {
   "cell_type": "markdown",
   "metadata": {},
   "source": [
    "User Input"
   ]
  },
  {
   "cell_type": "code",
   "execution_count": 6,
   "metadata": {},
   "outputs": [
    {
     "name": "stdout",
     "output_type": "stream",
     "text": [
      "Hello Faiyaz\n",
      "You are 23 years old\n"
     ]
    }
   ],
   "source": [
    "name = input(\"Enter your name: \")\n",
    "age = int(input (\"Enter your age: \"))\n",
    "age = age + 1\n",
    "\n",
    "print(f\"Hello {name}\")\n",
    "print(f\"You are {age} years old\")"
   ]
  },
  {
   "cell_type": "markdown",
   "metadata": {},
   "source": [
    "Mad libs"
   ]
  },
  {
   "cell_type": "code",
   "execution_count": 7,
   "metadata": {},
   "outputs": [
    {
     "name": "stdout",
     "output_type": "stream",
     "text": [
      "Today I went to a Jewish zoo.\n",
      "In an exhibit, I saw Your nan\n",
      "Your nan was clapped and bending\n",
      "I was disgusted\n"
     ]
    }
   ],
   "source": [
    "adjective1 = input(\"Enter an adjective: \")\n",
    "noun = input(\"Enter an noun: \")\n",
    "adjective2 = input(\"Enter an adjective: \")\n",
    "verb = input(\"Enter an verb: \")\n",
    "adjective3 =input(\"Enter an adjective: \")\n",
    "\n",
    "print(f\"Today I went to a {adjective1} zoo.\")\n",
    "print(f\"In an exhibit, I saw {noun}\")\n",
    "print(f\"{noun} was {adjective2} and {verb}ing\")\n",
    "print(f\"I was {adjective3}\")"
   ]
  },
  {
   "cell_type": "markdown",
   "metadata": {},
   "source": [
    "Area calculator"
   ]
  },
  {
   "cell_type": "code",
   "execution_count": 10,
   "metadata": {},
   "outputs": [
    {
     "name": "stdout",
     "output_type": "stream",
     "text": [
      "The volume is: 80cm^3\n"
     ]
    }
   ],
   "source": [
    "length = input(\"Enter the length of a rectangle: \")\n",
    "width = input(\"Enter the width of a rectangle: \")\n",
    "height = input(\"Enter the height of a rectangle: \")\n",
    "\n",
    "volume = int(length) * int(width) * int(height)\n",
    "\n",
    "print(f\"The volume is: {volume}cm^3\")"
   ]
  },
  {
   "cell_type": "markdown",
   "metadata": {},
   "source": [
    "Shopping Cart"
   ]
  },
  {
   "cell_type": "code",
   "execution_count": 14,
   "metadata": {},
   "outputs": [
    {
     "name": "stdout",
     "output_type": "stream",
     "text": [
      "You have brought 6 x Burger/s\n",
      "Your total is: £19.56\n"
     ]
    }
   ],
   "source": [
    "item = input(\"What item would you like to buy?: \")\n",
    "price = float(input(\"What is the price?: \"))\n",
    "quantity = int(input(\"How many would you like to buy?: \"))\n",
    "\n",
    "total = price * quantity \n",
    "\n",
    "print(f\"You have brought {quantity} x {item}/s\")\n",
    "print(f\"Your total is: £{round(total, 2)}\")"
   ]
  }
 ],
 "metadata": {
  "kernelspec": {
   "display_name": "Python 3",
   "language": "python",
   "name": "python3"
  },
  "language_info": {
   "codemirror_mode": {
    "name": "ipython",
    "version": 3
   },
   "file_extension": ".py",
   "mimetype": "text/x-python",
   "name": "python",
   "nbconvert_exporter": "python",
   "pygments_lexer": "ipython3",
   "version": "3.11.7"
  }
 },
 "nbformat": 4,
 "nbformat_minor": 2
}
